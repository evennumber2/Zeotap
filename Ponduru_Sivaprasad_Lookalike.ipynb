import pandas as pd
from sklearn.metrics.pairwise import cosine_similarity
from sklearn.preprocessing import StandardScaler

# Assume the data preparation steps from the previous response are already executed
# Here we continue from where we have 'customer_features' and 'similarity_df'

# Function to get top lookalikes
def get_top_lookalikes(customer_id, df, top_n=3):
    sim_scores = df.loc[customer_id].sort_values(ascending=False)
    return [(sim_customer, score) for sim_customer, score in sim_scores.iloc[1:top_n+1].items()]

# Generate lookalikes for the first 20 customers
lookalikes = {}
for customer in customer_features['CustomerID'].head(20):  # First 20 customers
    lookalikes[customer] = get_top_lookalikes(customer, similarity_df)

# Prepare data for CSV
lookalike_data = []
for cust_id, similar_customers in lookalikes.items():
    row = {f'Lookalike{i+1}': f"{cust},{score:.4f}" for i, (cust, score) in enumerate(similar_customers)}
    row['CustomerID'] = cust_id
    lookalike_data.append(row)

# Convert to DataFrame
lookalike_df = pd.DataFrame(lookalike_data)

# Reorder columns for clarity
lookalike_df = lookalike_df[['CustomerID', 'Lookalike1', 'Lookalike2', 'Lookalike3']]

# Save to CSV
lookalike_df.to_csv('Lookalike.csv', index=False)
